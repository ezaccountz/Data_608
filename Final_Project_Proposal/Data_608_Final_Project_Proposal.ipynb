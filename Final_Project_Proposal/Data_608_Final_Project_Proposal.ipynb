{
 "cells": [
  {
   "cell_type": "markdown",
   "id": "a91873e3",
   "metadata": {},
   "source": [
    "<h3>Data 608 Final Project Proposal</h3> <br>\n",
    "Euclid Zhang<br>\n",
    "10/23/2021"
   ]
  },
  {
   "cell_type": "markdown",
   "id": "231341da",
   "metadata": {},
   "source": [
    "<h4>Data Source</h4><br>\n",
    "Motor Vehicle Collisions – Crashes (New York City) <br>\n",
    "<a>https://data.cityofnewyork.us/Public-Safety/Motor-Vehicle-Collisions-Crashes/h9gi-nx95</a>\n",
    "\n",
    "Description: <br>\n",
    "This data set contains information about 1.83M police (NYPD) reported collision events starting from 2012. "
   ]
  },
  {
   "cell_type": "markdown",
   "id": "9abc6fae",
   "metadata": {},
   "source": [
    "<h4>Objective</h4><br>\n",
    "Using visualization: <br>\n",
    "•\tIdentify the spots where collisions happen frequently. <br>\n",
    "•\tIdentify the main factors that caused the collusions. <br>\n",
    "•\tCompare other elements of the collisions, such as the year, time, and vehicle type. <br>\n",
    "The results may be used to make recommendations to DMV and the Department of Transportation to improve drivers’ safety in the city."
   ]
  },
  {
   "cell_type": "markdown",
   "id": "20d7bcf5",
   "metadata": {},
   "source": [
    "<h4>Methodologies /technologies</h4><br>\n",
    "Using dash and plotly/datashader to create an interactive map. The user should be able to update the map using inputs such as zip code, borough, time, collusion factors, vehicle type and etc. The user can also zoom in/out from the map to update a summary table presented along with the map."
   ]
  },
  {
   "cell_type": "code",
   "execution_count": null,
   "id": "70ba5932",
   "metadata": {},
   "outputs": [],
   "source": []
  }
 ],
 "metadata": {
  "kernelspec": {
   "display_name": "Python 3 (ipykernel)",
   "language": "python",
   "name": "python3"
  },
  "language_info": {
   "codemirror_mode": {
    "name": "ipython",
    "version": 3
   },
   "file_extension": ".py",
   "mimetype": "text/x-python",
   "name": "python",
   "nbconvert_exporter": "python",
   "pygments_lexer": "ipython3",
   "version": "3.8.10"
  }
 },
 "nbformat": 4,
 "nbformat_minor": 5
}
